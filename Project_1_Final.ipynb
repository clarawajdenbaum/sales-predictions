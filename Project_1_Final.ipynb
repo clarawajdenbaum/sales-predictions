{
  "nbformat": 4,
  "nbformat_minor": 0,
  "metadata": {
    "colab": {
      "name": "Project 1 - Final",
      "provenance": [],
      "collapsed_sections": [],
      "authorship_tag": "ABX9TyNjnaqEnIO5bBrJM6eU9Be1",
      "include_colab_link": true
    },
    "kernelspec": {
      "name": "python3",
      "display_name": "Python 3"
    },
    "language_info": {
      "name": "python"
    }
  },
  "cells": [
    {
      "cell_type": "markdown",
      "metadata": {
        "id": "view-in-github",
        "colab_type": "text"
      },
      "source": [
        "<a href=\"https://colab.research.google.com/github/clarawajdenbaum/sales-predictions/blob/main/Project_1_Final.ipynb\" target=\"_parent\"><img src=\"https://colab.research.google.com/assets/colab-badge.svg\" alt=\"Open In Colab\"/></a>"
      ]
    },
    {
      "cell_type": "code",
      "execution_count": 1,
      "metadata": {
        "colab": {
          "base_uri": "https://localhost:8080/"
        },
        "id": "zRrmTIcrG0iJ",
        "outputId": "4f938bf0-6c45-4d95-860c-5059d5483d5d"
      },
      "outputs": [
        {
          "output_type": "stream",
          "name": "stdout",
          "text": [
            "Mounted at /content/drive\n"
          ]
        }
      ],
      "source": [
        "from google.colab import drive\n",
        "drive.mount('/content/drive')"
      ]
    },
    {
      "cell_type": "code",
      "source": [
        "import pandas as pd\n",
        "import numpy as np\n",
        "from sklearn.preprocessing import StandardScaler, OneHotEncoder\n",
        "from sklearn.impute import SimpleImputer\n",
        "from sklearn.compose import make_column_transformer, make_column_selector\n",
        "from sklearn.pipeline import make_pipeline\n",
        "from sklearn.model_selection import train_test_split\n",
        "from sklearn import set_config\n",
        "set_config(display='diagram')\n",
        "import matplotlib.pyplot as plt\n",
        "from sklearn.metrics import r2_score\n",
        "from sklearn.metrics import mean_squared_error\n",
        "from sklearn.metrics import mean_absolute_error"
      ],
      "metadata": {
        "id": "BLJ21U3qHD_P"
      },
      "execution_count": 45,
      "outputs": []
    },
    {
      "cell_type": "code",
      "source": [
        "df = pd.read_csv('/content/drive/MyDrive/Project/sales_predictions.csv')\n",
        "df.head()"
      ],
      "metadata": {
        "colab": {
          "base_uri": "https://localhost:8080/",
          "height": 357
        },
        "id": "HQjUiEJgHE73",
        "outputId": "6ab6b7e6-1f7d-42b5-e357-62958e27feff"
      },
      "execution_count": 3,
      "outputs": [
        {
          "output_type": "execute_result",
          "data": {
            "text/plain": [
              "  Item_Identifier  Item_Weight Item_Fat_Content  Item_Visibility  \\\n",
              "0           FDA15         9.30          Low Fat         0.016047   \n",
              "1           DRC01         5.92          Regular         0.019278   \n",
              "2           FDN15        17.50          Low Fat         0.016760   \n",
              "3           FDX07        19.20          Regular         0.000000   \n",
              "4           NCD19         8.93          Low Fat         0.000000   \n",
              "\n",
              "               Item_Type  Item_MRP Outlet_Identifier  \\\n",
              "0                  Dairy  249.8092            OUT049   \n",
              "1            Soft Drinks   48.2692            OUT018   \n",
              "2                   Meat  141.6180            OUT049   \n",
              "3  Fruits and Vegetables  182.0950            OUT010   \n",
              "4              Household   53.8614            OUT013   \n",
              "\n",
              "   Outlet_Establishment_Year Outlet_Size Outlet_Location_Type  \\\n",
              "0                       1999      Medium               Tier 1   \n",
              "1                       2009      Medium               Tier 3   \n",
              "2                       1999      Medium               Tier 1   \n",
              "3                       1998         NaN               Tier 3   \n",
              "4                       1987        High               Tier 3   \n",
              "\n",
              "         Outlet_Type  Item_Outlet_Sales  \n",
              "0  Supermarket Type1          3735.1380  \n",
              "1  Supermarket Type2           443.4228  \n",
              "2  Supermarket Type1          2097.2700  \n",
              "3      Grocery Store           732.3800  \n",
              "4  Supermarket Type1           994.7052  "
            ],
            "text/html": [
              "\n",
              "  <div id=\"df-fe96cc32-d989-427f-a896-2cbdc3f3bc64\">\n",
              "    <div class=\"colab-df-container\">\n",
              "      <div>\n",
              "<style scoped>\n",
              "    .dataframe tbody tr th:only-of-type {\n",
              "        vertical-align: middle;\n",
              "    }\n",
              "\n",
              "    .dataframe tbody tr th {\n",
              "        vertical-align: top;\n",
              "    }\n",
              "\n",
              "    .dataframe thead th {\n",
              "        text-align: right;\n",
              "    }\n",
              "</style>\n",
              "<table border=\"1\" class=\"dataframe\">\n",
              "  <thead>\n",
              "    <tr style=\"text-align: right;\">\n",
              "      <th></th>\n",
              "      <th>Item_Identifier</th>\n",
              "      <th>Item_Weight</th>\n",
              "      <th>Item_Fat_Content</th>\n",
              "      <th>Item_Visibility</th>\n",
              "      <th>Item_Type</th>\n",
              "      <th>Item_MRP</th>\n",
              "      <th>Outlet_Identifier</th>\n",
              "      <th>Outlet_Establishment_Year</th>\n",
              "      <th>Outlet_Size</th>\n",
              "      <th>Outlet_Location_Type</th>\n",
              "      <th>Outlet_Type</th>\n",
              "      <th>Item_Outlet_Sales</th>\n",
              "    </tr>\n",
              "  </thead>\n",
              "  <tbody>\n",
              "    <tr>\n",
              "      <th>0</th>\n",
              "      <td>FDA15</td>\n",
              "      <td>9.30</td>\n",
              "      <td>Low Fat</td>\n",
              "      <td>0.016047</td>\n",
              "      <td>Dairy</td>\n",
              "      <td>249.8092</td>\n",
              "      <td>OUT049</td>\n",
              "      <td>1999</td>\n",
              "      <td>Medium</td>\n",
              "      <td>Tier 1</td>\n",
              "      <td>Supermarket Type1</td>\n",
              "      <td>3735.1380</td>\n",
              "    </tr>\n",
              "    <tr>\n",
              "      <th>1</th>\n",
              "      <td>DRC01</td>\n",
              "      <td>5.92</td>\n",
              "      <td>Regular</td>\n",
              "      <td>0.019278</td>\n",
              "      <td>Soft Drinks</td>\n",
              "      <td>48.2692</td>\n",
              "      <td>OUT018</td>\n",
              "      <td>2009</td>\n",
              "      <td>Medium</td>\n",
              "      <td>Tier 3</td>\n",
              "      <td>Supermarket Type2</td>\n",
              "      <td>443.4228</td>\n",
              "    </tr>\n",
              "    <tr>\n",
              "      <th>2</th>\n",
              "      <td>FDN15</td>\n",
              "      <td>17.50</td>\n",
              "      <td>Low Fat</td>\n",
              "      <td>0.016760</td>\n",
              "      <td>Meat</td>\n",
              "      <td>141.6180</td>\n",
              "      <td>OUT049</td>\n",
              "      <td>1999</td>\n",
              "      <td>Medium</td>\n",
              "      <td>Tier 1</td>\n",
              "      <td>Supermarket Type1</td>\n",
              "      <td>2097.2700</td>\n",
              "    </tr>\n",
              "    <tr>\n",
              "      <th>3</th>\n",
              "      <td>FDX07</td>\n",
              "      <td>19.20</td>\n",
              "      <td>Regular</td>\n",
              "      <td>0.000000</td>\n",
              "      <td>Fruits and Vegetables</td>\n",
              "      <td>182.0950</td>\n",
              "      <td>OUT010</td>\n",
              "      <td>1998</td>\n",
              "      <td>NaN</td>\n",
              "      <td>Tier 3</td>\n",
              "      <td>Grocery Store</td>\n",
              "      <td>732.3800</td>\n",
              "    </tr>\n",
              "    <tr>\n",
              "      <th>4</th>\n",
              "      <td>NCD19</td>\n",
              "      <td>8.93</td>\n",
              "      <td>Low Fat</td>\n",
              "      <td>0.000000</td>\n",
              "      <td>Household</td>\n",
              "      <td>53.8614</td>\n",
              "      <td>OUT013</td>\n",
              "      <td>1987</td>\n",
              "      <td>High</td>\n",
              "      <td>Tier 3</td>\n",
              "      <td>Supermarket Type1</td>\n",
              "      <td>994.7052</td>\n",
              "    </tr>\n",
              "  </tbody>\n",
              "</table>\n",
              "</div>\n",
              "      <button class=\"colab-df-convert\" onclick=\"convertToInteractive('df-fe96cc32-d989-427f-a896-2cbdc3f3bc64')\"\n",
              "              title=\"Convert this dataframe to an interactive table.\"\n",
              "              style=\"display:none;\">\n",
              "        \n",
              "  <svg xmlns=\"http://www.w3.org/2000/svg\" height=\"24px\"viewBox=\"0 0 24 24\"\n",
              "       width=\"24px\">\n",
              "    <path d=\"M0 0h24v24H0V0z\" fill=\"none\"/>\n",
              "    <path d=\"M18.56 5.44l.94 2.06.94-2.06 2.06-.94-2.06-.94-.94-2.06-.94 2.06-2.06.94zm-11 1L8.5 8.5l.94-2.06 2.06-.94-2.06-.94L8.5 2.5l-.94 2.06-2.06.94zm10 10l.94 2.06.94-2.06 2.06-.94-2.06-.94-.94-2.06-.94 2.06-2.06.94z\"/><path d=\"M17.41 7.96l-1.37-1.37c-.4-.4-.92-.59-1.43-.59-.52 0-1.04.2-1.43.59L10.3 9.45l-7.72 7.72c-.78.78-.78 2.05 0 2.83L4 21.41c.39.39.9.59 1.41.59.51 0 1.02-.2 1.41-.59l7.78-7.78 2.81-2.81c.8-.78.8-2.07 0-2.86zM5.41 20L4 18.59l7.72-7.72 1.47 1.35L5.41 20z\"/>\n",
              "  </svg>\n",
              "      </button>\n",
              "      \n",
              "  <style>\n",
              "    .colab-df-container {\n",
              "      display:flex;\n",
              "      flex-wrap:wrap;\n",
              "      gap: 12px;\n",
              "    }\n",
              "\n",
              "    .colab-df-convert {\n",
              "      background-color: #E8F0FE;\n",
              "      border: none;\n",
              "      border-radius: 50%;\n",
              "      cursor: pointer;\n",
              "      display: none;\n",
              "      fill: #1967D2;\n",
              "      height: 32px;\n",
              "      padding: 0 0 0 0;\n",
              "      width: 32px;\n",
              "    }\n",
              "\n",
              "    .colab-df-convert:hover {\n",
              "      background-color: #E2EBFA;\n",
              "      box-shadow: 0px 1px 2px rgba(60, 64, 67, 0.3), 0px 1px 3px 1px rgba(60, 64, 67, 0.15);\n",
              "      fill: #174EA6;\n",
              "    }\n",
              "\n",
              "    [theme=dark] .colab-df-convert {\n",
              "      background-color: #3B4455;\n",
              "      fill: #D2E3FC;\n",
              "    }\n",
              "\n",
              "    [theme=dark] .colab-df-convert:hover {\n",
              "      background-color: #434B5C;\n",
              "      box-shadow: 0px 1px 3px 1px rgba(0, 0, 0, 0.15);\n",
              "      filter: drop-shadow(0px 1px 2px rgba(0, 0, 0, 0.3));\n",
              "      fill: #FFFFFF;\n",
              "    }\n",
              "  </style>\n",
              "\n",
              "      <script>\n",
              "        const buttonEl =\n",
              "          document.querySelector('#df-fe96cc32-d989-427f-a896-2cbdc3f3bc64 button.colab-df-convert');\n",
              "        buttonEl.style.display =\n",
              "          google.colab.kernel.accessAllowed ? 'block' : 'none';\n",
              "\n",
              "        async function convertToInteractive(key) {\n",
              "          const element = document.querySelector('#df-fe96cc32-d989-427f-a896-2cbdc3f3bc64');\n",
              "          const dataTable =\n",
              "            await google.colab.kernel.invokeFunction('convertToInteractive',\n",
              "                                                     [key], {});\n",
              "          if (!dataTable) return;\n",
              "\n",
              "          const docLinkHtml = 'Like what you see? Visit the ' +\n",
              "            '<a target=\"_blank\" href=https://colab.research.google.com/notebooks/data_table.ipynb>data table notebook</a>'\n",
              "            + ' to learn more about interactive tables.';\n",
              "          element.innerHTML = '';\n",
              "          dataTable['output_type'] = 'display_data';\n",
              "          await google.colab.output.renderOutput(dataTable, element);\n",
              "          const docLink = document.createElement('div');\n",
              "          docLink.innerHTML = docLinkHtml;\n",
              "          element.appendChild(docLink);\n",
              "        }\n",
              "      </script>\n",
              "    </div>\n",
              "  </div>\n",
              "  "
            ]
          },
          "metadata": {},
          "execution_count": 3
        }
      ]
    },
    {
      "cell_type": "code",
      "source": [
        "# Important codes from part 5\n",
        "\n",
        "y = df['Item_Outlet_Sales'] \n",
        "X = df.drop(columns='Item_Outlet_Sales')\n",
        "replacement_dict = {'High':2, 'Medium':1, 'Small':0}\n",
        "df['Outlet_Size'].replace(replacement_dict, inplace=True)\n",
        "df['Outlet_Size'].value_counts()\n",
        "X_train, X_test, y_train, y_test = train_test_split(X, y, random_state=42)\n",
        "cat_selector = make_column_selector(dtype_include='object')\n",
        "num_selector = make_column_selector(dtype_include='number')  \n",
        "const_imputer = SimpleImputer(strategy='constant')\n",
        "mean_imputer = SimpleImputer(strategy='mean')\n",
        "scaler = StandardScaler()\n",
        "ohe = OneHotEncoder(handle_unknown='ignore', sparse=False)\n",
        "num_pipe = make_pipeline(mean_imputer, scaler)\n",
        "cat_pipe = make_pipeline(const_imputer, ohe)\n",
        "num_tuple = (num_pipe, num_selector)\n",
        "cat_tuple = (cat_pipe, cat_selector)\n",
        "preprocessor = make_column_transformer(num_tuple, cat_tuple)\n",
        "preprocessor.fit(X_train)\n",
        "X_train_processed = preprocessor.transform(X_train)\n",
        "X_test_processed = preprocessor.transform(X_test)"
      ],
      "metadata": {
        "id": "muy4A_GJHLrp"
      },
      "execution_count": 59,
      "outputs": []
    },
    {
      "cell_type": "code",
      "source": [
        "# Our task here is to build different models and see how well they work."
      ],
      "metadata": {
        "id": "2xvZgyPKH5bx"
      },
      "execution_count": null,
      "outputs": []
    },
    {
      "cell_type": "markdown",
      "source": [
        "Linear Regression Model"
      ],
      "metadata": {
        "id": "ti2dzZvcH1Cj"
      }
    },
    {
      "cell_type": "code",
      "source": [
        "# Import the model\n",
        "\n",
        "from sklearn.linear_model import LinearRegression"
      ],
      "metadata": {
        "id": "fD2Mq4heH3kw"
      },
      "execution_count": 6,
      "outputs": []
    },
    {
      "cell_type": "code",
      "source": [
        "# Make an instance of the model\n",
        "\n",
        "reg = LinearRegression()"
      ],
      "metadata": {
        "id": "IlEbCuUgIMiM"
      },
      "execution_count": 7,
      "outputs": []
    },
    {
      "cell_type": "code",
      "source": [
        "# Training the model on the data\n",
        "\n",
        "reg.fit(X_train_processed, y_train)"
      ],
      "metadata": {
        "colab": {
          "base_uri": "https://localhost:8080/",
          "height": 74
        },
        "id": "kW7X_7KsIRJO",
        "outputId": "e2428b62-e952-4d42-f8c9-8ab451f918d0"
      },
      "execution_count": 21,
      "outputs": [
        {
          "output_type": "execute_result",
          "data": {
            "text/plain": [
              "LinearRegression()"
            ],
            "text/html": [
              "<style>#sk-6c9f74a9-5459-4070-80cd-ea71fbd4d1e4 {color: black;background-color: white;}#sk-6c9f74a9-5459-4070-80cd-ea71fbd4d1e4 pre{padding: 0;}#sk-6c9f74a9-5459-4070-80cd-ea71fbd4d1e4 div.sk-toggleable {background-color: white;}#sk-6c9f74a9-5459-4070-80cd-ea71fbd4d1e4 label.sk-toggleable__label {cursor: pointer;display: block;width: 100%;margin-bottom: 0;padding: 0.3em;box-sizing: border-box;text-align: center;}#sk-6c9f74a9-5459-4070-80cd-ea71fbd4d1e4 label.sk-toggleable__label-arrow:before {content: \"▸\";float: left;margin-right: 0.25em;color: #696969;}#sk-6c9f74a9-5459-4070-80cd-ea71fbd4d1e4 label.sk-toggleable__label-arrow:hover:before {color: black;}#sk-6c9f74a9-5459-4070-80cd-ea71fbd4d1e4 div.sk-estimator:hover label.sk-toggleable__label-arrow:before {color: black;}#sk-6c9f74a9-5459-4070-80cd-ea71fbd4d1e4 div.sk-toggleable__content {max-height: 0;max-width: 0;overflow: hidden;text-align: left;background-color: #f0f8ff;}#sk-6c9f74a9-5459-4070-80cd-ea71fbd4d1e4 div.sk-toggleable__content pre {margin: 0.2em;color: black;border-radius: 0.25em;background-color: #f0f8ff;}#sk-6c9f74a9-5459-4070-80cd-ea71fbd4d1e4 input.sk-toggleable__control:checked~div.sk-toggleable__content {max-height: 200px;max-width: 100%;overflow: auto;}#sk-6c9f74a9-5459-4070-80cd-ea71fbd4d1e4 input.sk-toggleable__control:checked~label.sk-toggleable__label-arrow:before {content: \"▾\";}#sk-6c9f74a9-5459-4070-80cd-ea71fbd4d1e4 div.sk-estimator input.sk-toggleable__control:checked~label.sk-toggleable__label {background-color: #d4ebff;}#sk-6c9f74a9-5459-4070-80cd-ea71fbd4d1e4 div.sk-label input.sk-toggleable__control:checked~label.sk-toggleable__label {background-color: #d4ebff;}#sk-6c9f74a9-5459-4070-80cd-ea71fbd4d1e4 input.sk-hidden--visually {border: 0;clip: rect(1px 1px 1px 1px);clip: rect(1px, 1px, 1px, 1px);height: 1px;margin: -1px;overflow: hidden;padding: 0;position: absolute;width: 1px;}#sk-6c9f74a9-5459-4070-80cd-ea71fbd4d1e4 div.sk-estimator {font-family: monospace;background-color: #f0f8ff;border: 1px dotted black;border-radius: 0.25em;box-sizing: border-box;margin-bottom: 0.5em;}#sk-6c9f74a9-5459-4070-80cd-ea71fbd4d1e4 div.sk-estimator:hover {background-color: #d4ebff;}#sk-6c9f74a9-5459-4070-80cd-ea71fbd4d1e4 div.sk-parallel-item::after {content: \"\";width: 100%;border-bottom: 1px solid gray;flex-grow: 1;}#sk-6c9f74a9-5459-4070-80cd-ea71fbd4d1e4 div.sk-label:hover label.sk-toggleable__label {background-color: #d4ebff;}#sk-6c9f74a9-5459-4070-80cd-ea71fbd4d1e4 div.sk-serial::before {content: \"\";position: absolute;border-left: 1px solid gray;box-sizing: border-box;top: 2em;bottom: 0;left: 50%;}#sk-6c9f74a9-5459-4070-80cd-ea71fbd4d1e4 div.sk-serial {display: flex;flex-direction: column;align-items: center;background-color: white;padding-right: 0.2em;padding-left: 0.2em;}#sk-6c9f74a9-5459-4070-80cd-ea71fbd4d1e4 div.sk-item {z-index: 1;}#sk-6c9f74a9-5459-4070-80cd-ea71fbd4d1e4 div.sk-parallel {display: flex;align-items: stretch;justify-content: center;background-color: white;}#sk-6c9f74a9-5459-4070-80cd-ea71fbd4d1e4 div.sk-parallel::before {content: \"\";position: absolute;border-left: 1px solid gray;box-sizing: border-box;top: 2em;bottom: 0;left: 50%;}#sk-6c9f74a9-5459-4070-80cd-ea71fbd4d1e4 div.sk-parallel-item {display: flex;flex-direction: column;position: relative;background-color: white;}#sk-6c9f74a9-5459-4070-80cd-ea71fbd4d1e4 div.sk-parallel-item:first-child::after {align-self: flex-end;width: 50%;}#sk-6c9f74a9-5459-4070-80cd-ea71fbd4d1e4 div.sk-parallel-item:last-child::after {align-self: flex-start;width: 50%;}#sk-6c9f74a9-5459-4070-80cd-ea71fbd4d1e4 div.sk-parallel-item:only-child::after {width: 0;}#sk-6c9f74a9-5459-4070-80cd-ea71fbd4d1e4 div.sk-dashed-wrapped {border: 1px dashed gray;margin: 0 0.4em 0.5em 0.4em;box-sizing: border-box;padding-bottom: 0.4em;background-color: white;position: relative;}#sk-6c9f74a9-5459-4070-80cd-ea71fbd4d1e4 div.sk-label label {font-family: monospace;font-weight: bold;background-color: white;display: inline-block;line-height: 1.2em;}#sk-6c9f74a9-5459-4070-80cd-ea71fbd4d1e4 div.sk-label-container {position: relative;z-index: 2;text-align: center;}#sk-6c9f74a9-5459-4070-80cd-ea71fbd4d1e4 div.sk-container {/* jupyter's `normalize.less` sets `[hidden] { display: none; }` but bootstrap.min.css set `[hidden] { display: none !important; }` so we also need the `!important` here to be able to override the default hidden behavior on the sphinx rendered scikit-learn.org. See: https://github.com/scikit-learn/scikit-learn/issues/21755 */display: inline-block !important;position: relative;}#sk-6c9f74a9-5459-4070-80cd-ea71fbd4d1e4 div.sk-text-repr-fallback {display: none;}</style><div id=\"sk-6c9f74a9-5459-4070-80cd-ea71fbd4d1e4\" class=\"sk-top-container\"><div class=\"sk-text-repr-fallback\"><pre>LinearRegression()</pre><b>Please rerun this cell to show the HTML repr or trust the notebook.</b></div><div class=\"sk-container\" hidden><div class=\"sk-item\"><div class=\"sk-estimator sk-toggleable\"><input class=\"sk-toggleable__control sk-hidden--visually\" id=\"094027e8-6c2c-45a8-9c33-1f986e818119\" type=\"checkbox\" checked><label for=\"094027e8-6c2c-45a8-9c33-1f986e818119\" class=\"sk-toggleable__label sk-toggleable__label-arrow\">LinearRegression</label><div class=\"sk-toggleable__content\"><pre>LinearRegression()</pre></div></div></div></div></div>"
            ]
          },
          "metadata": {},
          "execution_count": 21
        }
      ]
    },
    {
      "cell_type": "code",
      "source": [
        "# Measuring model performance using R^2\n",
        "\n",
        "train_score = reg.score(X_train_processed, y_train)\n",
        "test_score = reg.score(X_test_processed, y_test)\n",
        "print(train_score)\n",
        "print(test_score)"
      ],
      "metadata": {
        "colab": {
          "base_uri": "https://localhost:8080/"
        },
        "id": "VMpjc2UHIom6",
        "outputId": "59b890b0-1892-434b-83fb-cf57be55aa53"
      },
      "execution_count": 12,
      "outputs": [
        {
          "output_type": "stream",
          "name": "stdout",
          "text": [
            "0.6664056642852452\n",
            "-5.828794128456094e+18\n"
          ]
        }
      ]
    },
    {
      "cell_type": "code",
      "source": [
        "# Obtaining the predictions (in order to calculate RMSE)\n",
        "\n",
        "train_preds = reg.predict(X_train_processed)\n",
        "test_preds = reg.predict(X_test_processed)\n",
        "\n",
        "# Coefficient of Determination (r^2) (to find the RMSE)\n",
        "r2_train = r2_score(y_train, train_preds)\n",
        "r2_test = r2_score(y_test, test_preds)"
      ],
      "metadata": {
        "id": "n0ekX6N_On4O"
      },
      "execution_count": 42,
      "outputs": []
    },
    {
      "cell_type": "code",
      "source": [
        "# Calculatin the root mean squared error (RMSE)\n",
        "\n",
        "rmse_train = np.sqrt(mean_squared_error(y_train, train_preds))\n",
        "rmse_test = np.sqrt(mean_squared_error(y_test, test_preds))\n",
        "print(rmse_train)\n",
        "print(rmse_test)"
      ],
      "metadata": {
        "colab": {
          "base_uri": "https://localhost:8080/"
        },
        "id": "lXZM0PNVPMLq",
        "outputId": "718bcc1d-c26e-4111-d6f6-0c56f587f3a5"
      },
      "execution_count": 44,
      "outputs": [
        {
          "output_type": "stream",
          "name": "stdout",
          "text": [
            "993.6084036625189\n",
            "4010175883388.551\n"
          ]
        }
      ]
    },
    {
      "cell_type": "code",
      "source": [
        "# The linear regression model is absolutely not a model that fits our data. \n",
        "# The r^2 score is negative meaning that our model fits worse than a horizontal line. Source: https://stats.stackexchange.com/questions/12900/when-is-r-squared-negative"
      ],
      "metadata": {
        "id": "-CbNJEsJS0jA"
      },
      "execution_count": null,
      "outputs": []
    },
    {
      "cell_type": "markdown",
      "source": [
        "Regression Tree Model"
      ],
      "metadata": {
        "id": "3Kp792GpJddz"
      }
    },
    {
      "cell_type": "code",
      "source": [
        "# Import the model\n",
        "\n",
        "from sklearn.tree import DecisionTreeRegressor"
      ],
      "metadata": {
        "id": "vjXc_dIUJ4Oy"
      },
      "execution_count": 14,
      "outputs": []
    },
    {
      "cell_type": "code",
      "source": [
        "# Make an instance of the model\n",
        "\n",
        "dec_tree = DecisionTreeRegressor(random_state=42)"
      ],
      "metadata": {
        "id": "MZTCJRiaJ-SV"
      },
      "execution_count": 22,
      "outputs": []
    },
    {
      "cell_type": "code",
      "source": [
        "# Training the model on the data\n",
        "\n",
        "dec_tree.fit(X_train_processed, y_train)"
      ],
      "metadata": {
        "colab": {
          "base_uri": "https://localhost:8080/",
          "height": 74
        },
        "id": "Tcg1MET_KLAG",
        "outputId": "281d2305-fea2-40e9-b069-578de5a4de3d"
      },
      "execution_count": 23,
      "outputs": [
        {
          "output_type": "execute_result",
          "data": {
            "text/plain": [
              "DecisionTreeRegressor(random_state=42)"
            ],
            "text/html": [
              "<style>#sk-18c3b329-be97-4ffd-89a9-466cc3fa7ae2 {color: black;background-color: white;}#sk-18c3b329-be97-4ffd-89a9-466cc3fa7ae2 pre{padding: 0;}#sk-18c3b329-be97-4ffd-89a9-466cc3fa7ae2 div.sk-toggleable {background-color: white;}#sk-18c3b329-be97-4ffd-89a9-466cc3fa7ae2 label.sk-toggleable__label {cursor: pointer;display: block;width: 100%;margin-bottom: 0;padding: 0.3em;box-sizing: border-box;text-align: center;}#sk-18c3b329-be97-4ffd-89a9-466cc3fa7ae2 label.sk-toggleable__label-arrow:before {content: \"▸\";float: left;margin-right: 0.25em;color: #696969;}#sk-18c3b329-be97-4ffd-89a9-466cc3fa7ae2 label.sk-toggleable__label-arrow:hover:before {color: black;}#sk-18c3b329-be97-4ffd-89a9-466cc3fa7ae2 div.sk-estimator:hover label.sk-toggleable__label-arrow:before {color: black;}#sk-18c3b329-be97-4ffd-89a9-466cc3fa7ae2 div.sk-toggleable__content {max-height: 0;max-width: 0;overflow: hidden;text-align: left;background-color: #f0f8ff;}#sk-18c3b329-be97-4ffd-89a9-466cc3fa7ae2 div.sk-toggleable__content pre {margin: 0.2em;color: black;border-radius: 0.25em;background-color: #f0f8ff;}#sk-18c3b329-be97-4ffd-89a9-466cc3fa7ae2 input.sk-toggleable__control:checked~div.sk-toggleable__content {max-height: 200px;max-width: 100%;overflow: auto;}#sk-18c3b329-be97-4ffd-89a9-466cc3fa7ae2 input.sk-toggleable__control:checked~label.sk-toggleable__label-arrow:before {content: \"▾\";}#sk-18c3b329-be97-4ffd-89a9-466cc3fa7ae2 div.sk-estimator input.sk-toggleable__control:checked~label.sk-toggleable__label {background-color: #d4ebff;}#sk-18c3b329-be97-4ffd-89a9-466cc3fa7ae2 div.sk-label input.sk-toggleable__control:checked~label.sk-toggleable__label {background-color: #d4ebff;}#sk-18c3b329-be97-4ffd-89a9-466cc3fa7ae2 input.sk-hidden--visually {border: 0;clip: rect(1px 1px 1px 1px);clip: rect(1px, 1px, 1px, 1px);height: 1px;margin: -1px;overflow: hidden;padding: 0;position: absolute;width: 1px;}#sk-18c3b329-be97-4ffd-89a9-466cc3fa7ae2 div.sk-estimator {font-family: monospace;background-color: #f0f8ff;border: 1px dotted black;border-radius: 0.25em;box-sizing: border-box;margin-bottom: 0.5em;}#sk-18c3b329-be97-4ffd-89a9-466cc3fa7ae2 div.sk-estimator:hover {background-color: #d4ebff;}#sk-18c3b329-be97-4ffd-89a9-466cc3fa7ae2 div.sk-parallel-item::after {content: \"\";width: 100%;border-bottom: 1px solid gray;flex-grow: 1;}#sk-18c3b329-be97-4ffd-89a9-466cc3fa7ae2 div.sk-label:hover label.sk-toggleable__label {background-color: #d4ebff;}#sk-18c3b329-be97-4ffd-89a9-466cc3fa7ae2 div.sk-serial::before {content: \"\";position: absolute;border-left: 1px solid gray;box-sizing: border-box;top: 2em;bottom: 0;left: 50%;}#sk-18c3b329-be97-4ffd-89a9-466cc3fa7ae2 div.sk-serial {display: flex;flex-direction: column;align-items: center;background-color: white;padding-right: 0.2em;padding-left: 0.2em;}#sk-18c3b329-be97-4ffd-89a9-466cc3fa7ae2 div.sk-item {z-index: 1;}#sk-18c3b329-be97-4ffd-89a9-466cc3fa7ae2 div.sk-parallel {display: flex;align-items: stretch;justify-content: center;background-color: white;}#sk-18c3b329-be97-4ffd-89a9-466cc3fa7ae2 div.sk-parallel::before {content: \"\";position: absolute;border-left: 1px solid gray;box-sizing: border-box;top: 2em;bottom: 0;left: 50%;}#sk-18c3b329-be97-4ffd-89a9-466cc3fa7ae2 div.sk-parallel-item {display: flex;flex-direction: column;position: relative;background-color: white;}#sk-18c3b329-be97-4ffd-89a9-466cc3fa7ae2 div.sk-parallel-item:first-child::after {align-self: flex-end;width: 50%;}#sk-18c3b329-be97-4ffd-89a9-466cc3fa7ae2 div.sk-parallel-item:last-child::after {align-self: flex-start;width: 50%;}#sk-18c3b329-be97-4ffd-89a9-466cc3fa7ae2 div.sk-parallel-item:only-child::after {width: 0;}#sk-18c3b329-be97-4ffd-89a9-466cc3fa7ae2 div.sk-dashed-wrapped {border: 1px dashed gray;margin: 0 0.4em 0.5em 0.4em;box-sizing: border-box;padding-bottom: 0.4em;background-color: white;position: relative;}#sk-18c3b329-be97-4ffd-89a9-466cc3fa7ae2 div.sk-label label {font-family: monospace;font-weight: bold;background-color: white;display: inline-block;line-height: 1.2em;}#sk-18c3b329-be97-4ffd-89a9-466cc3fa7ae2 div.sk-label-container {position: relative;z-index: 2;text-align: center;}#sk-18c3b329-be97-4ffd-89a9-466cc3fa7ae2 div.sk-container {/* jupyter's `normalize.less` sets `[hidden] { display: none; }` but bootstrap.min.css set `[hidden] { display: none !important; }` so we also need the `!important` here to be able to override the default hidden behavior on the sphinx rendered scikit-learn.org. See: https://github.com/scikit-learn/scikit-learn/issues/21755 */display: inline-block !important;position: relative;}#sk-18c3b329-be97-4ffd-89a9-466cc3fa7ae2 div.sk-text-repr-fallback {display: none;}</style><div id=\"sk-18c3b329-be97-4ffd-89a9-466cc3fa7ae2\" class=\"sk-top-container\"><div class=\"sk-text-repr-fallback\"><pre>DecisionTreeRegressor(random_state=42)</pre><b>Please rerun this cell to show the HTML repr or trust the notebook.</b></div><div class=\"sk-container\" hidden><div class=\"sk-item\"><div class=\"sk-estimator sk-toggleable\"><input class=\"sk-toggleable__control sk-hidden--visually\" id=\"29632c05-60e1-4caf-a9d4-557749fd180c\" type=\"checkbox\" checked><label for=\"29632c05-60e1-4caf-a9d4-557749fd180c\" class=\"sk-toggleable__label sk-toggleable__label-arrow\">DecisionTreeRegressor</label><div class=\"sk-toggleable__content\"><pre>DecisionTreeRegressor(random_state=42)</pre></div></div></div></div></div>"
            ]
          },
          "metadata": {},
          "execution_count": 23
        }
      ]
    },
    {
      "cell_type": "code",
      "source": [
        "# Measuring model performance using R^2\n",
        "\n",
        "train_score_dt = dec_tree.score(X_train_processed, y_train)\n",
        "test_score_dt = dec_tree.score(X_test_processed, y_test)\n",
        "print(train_score_dt)\n",
        "print(test_score_dt)\n",
        "\n",
        "# Our model is very overfit so I am going to change the max depth."
      ],
      "metadata": {
        "colab": {
          "base_uri": "https://localhost:8080/"
        },
        "id": "S9ujvRpOK2_f",
        "outputId": "c68b9470-40ac-4b6e-a6cd-3154615f40e7"
      },
      "execution_count": 52,
      "outputs": [
        {
          "output_type": "stream",
          "name": "stdout",
          "text": [
            "0.9999999425876854\n",
            "0.22256706036110852\n"
          ]
        }
      ]
    },
    {
      "cell_type": "code",
      "source": [
        "# Tune the Model\n",
        "\n",
        "dec_tree.get_params()"
      ],
      "metadata": {
        "colab": {
          "base_uri": "https://localhost:8080/"
        },
        "id": "8BUivLjkLL9L",
        "outputId": "0ba6ee7f-0303-424f-81d0-d0a7e516ab94"
      },
      "execution_count": 28,
      "outputs": [
        {
          "output_type": "execute_result",
          "data": {
            "text/plain": [
              "{'ccp_alpha': 0.0,\n",
              " 'criterion': 'squared_error',\n",
              " 'max_depth': None,\n",
              " 'max_features': None,\n",
              " 'max_leaf_nodes': None,\n",
              " 'min_impurity_decrease': 0.0,\n",
              " 'min_samples_leaf': 1,\n",
              " 'min_samples_split': 2,\n",
              " 'min_weight_fraction_leaf': 0.0,\n",
              " 'random_state': 42,\n",
              " 'splitter': 'best'}"
            ]
          },
          "metadata": {},
          "execution_count": 28
        }
      ]
    },
    {
      "cell_type": "code",
      "source": [
        "# Lets check and see what the depth of our default tree was.\n",
        "\n",
        "dec_tree.get_depth()"
      ],
      "metadata": {
        "colab": {
          "base_uri": "https://localhost:8080/"
        },
        "id": "J-OLigjKLRrS",
        "outputId": "eac2c056-4403-4e34-bcf7-d40c0845bdeb"
      },
      "execution_count": 29,
      "outputs": [
        {
          "output_type": "execute_result",
          "data": {
            "text/plain": [
              "81"
            ]
          },
          "metadata": {},
          "execution_count": 29
        }
      ]
    },
    {
      "cell_type": "code",
      "source": [
        "# Let's see how many leaf nodes our tree had.\n",
        "\n",
        "dec_tree.get_n_leaves()"
      ],
      "metadata": {
        "colab": {
          "base_uri": "https://localhost:8080/"
        },
        "id": "oNy0k7yYLWYF",
        "outputId": "5986fa48-4a1b-4028-f784-ca138812cf31"
      },
      "execution_count": 30,
      "outputs": [
        {
          "output_type": "execute_result",
          "data": {
            "text/plain": [
              "6263"
            ]
          },
          "metadata": {},
          "execution_count": 30
        }
      ]
    },
    {
      "cell_type": "code",
      "source": [
        "# Let's write a function to find out perfect max depth\n",
        "\n",
        "max_depth_range = list(range(2,81))\n",
        "r2 = []\n",
        "for depth in max_depth_range:\n",
        "  dec_tree = DecisionTreeRegressor(max_depth =depth, random_state = 42)\n",
        "  dec_tree.fit(X_train_processed, y_train)\n",
        "  score = dec_tree.score(X_test_processed, y_test)\n",
        "  r2.append(score)\n",
        "\n",
        "plt.plot(max_depth_range, r2);\n",
        "plt.xlabel('max_depth');\n",
        "plt.ylabel('R2');"
      ],
      "metadata": {
        "colab": {
          "base_uri": "https://localhost:8080/",
          "height": 280
        },
        "id": "xX7iIntaLcCE",
        "outputId": "72b14e5a-4443-4512-c19e-17f75e5c7b87"
      },
      "execution_count": 35,
      "outputs": [
        {
          "output_type": "display_data",
          "data": {
            "text/plain": [
              "<Figure size 432x288 with 1 Axes>"
            ],
            "image/png": "[encoded data removed]"
          },
          "metadata": {
            "needs_background": "light"
          }
        }
      ]
    },
    {
      "cell_type": "code",
      "source": [
        "dec_tree_7 = DecisionTreeRegressor(max_depth=7, random_state=42)\n",
        "dec_tree_7.fit(X_train_processed, y_train)\n",
        "train_7_score = dec_tree_7.score(X_train_processed, y_train)\n",
        "test_7_score = dec_tree_7.score(X_test_processed, y_test)\n",
        "print(train_7_score)\n",
        "print(test_7_score)"
      ],
      "metadata": {
        "colab": {
          "base_uri": "https://localhost:8080/"
        },
        "id": "OJR-BNaIN95u",
        "outputId": "5fc0bb0c-d35b-45b9-b557-d7f254cc27ec"
      },
      "execution_count": 38,
      "outputs": [
        {
          "output_type": "stream",
          "name": "stdout",
          "text": [
            "0.6293104944684149\n",
            "0.5777074810611029\n"
          ]
        }
      ]
    },
    {
      "cell_type": "code",
      "source": [
        "# With a max depth of 7, our model has low variance. The variance is how much the model will vary if we use different datasets. Source: https://login.codingdojo.com/m/213/7197/85745\n",
        "# We have a r^2 score of 0.57 on the testing data which is considered a moderate correlation. Source: https://www.rampfesthudson.com/what-does-an-r2-value-of-0-6-mean/"
      ],
      "metadata": {
        "id": "PqsTMB0LWAdW"
      },
      "execution_count": null,
      "outputs": []
    },
    {
      "cell_type": "code",
      "source": [
        "dec_tree_2 = DecisionTreeRegressor(max_depth=2, random_state=42)\n",
        "dec_tree_2.fit(X_train_processed, y_train)\n",
        "train_2_score = dec_tree_2.score(X_train_processed, y_train)\n",
        "test_2_score = dec_tree_2.score(X_test_processed, y_test)\n",
        "print(train_2_score)\n",
        "print(test_2_score)"
      ],
      "metadata": {
        "colab": {
          "base_uri": "https://localhost:8080/"
        },
        "id": "B2c63yJTgdM0",
        "outputId": "d1630744-4ec5-4e64-c716-c55337d664c6"
      },
      "execution_count": 62,
      "outputs": [
        {
          "output_type": "stream",
          "name": "stdout",
          "text": [
            "0.43164096170474664\n",
            "0.4337775044707164\n"
          ]
        }
      ]
    },
    {
      "cell_type": "code",
      "source": [
        "# With a depth of 2, our model fits perfectly. But a r^2 score of 0.43 is considered low."
      ],
      "metadata": {
        "id": "IvdQ2LkJhA81"
      },
      "execution_count": null,
      "outputs": []
    },
    {
      "cell_type": "code",
      "source": [
        "# Obtaining the predictions (in order to calculate RMSE)\n",
        "\n",
        "train_preds_dt = dec_tree.predict(X_train_processed)\n",
        "test_preds_dt = dec_tree.predict(X_test_processed)\n",
        "\n",
        "# Coefficient of Determination (r^2) (to find the RMSE)\n",
        "r2_train_dt = r2_score(y_train, train_preds_dt)\n",
        "r2_test_dt = r2_score(y_test, test_preds_dt)"
      ],
      "metadata": {
        "id": "a5I9ivyUQP0M"
      },
      "execution_count": 48,
      "outputs": []
    },
    {
      "cell_type": "code",
      "source": [
        "# Calculatin the root mean squared error (RMSE)\n",
        "\n",
        "rmse_train_dt = np.sqrt(mean_squared_error(y_train, train_preds_dt))\n",
        "rmse_test_dt = np.sqrt(mean_squared_error(y_test, test_preds_dt))\n",
        "print(rmse_train_dt)\n",
        "print(rmse_test_dt)"
      ],
      "metadata": {
        "colab": {
          "base_uri": "https://localhost:8080/"
        },
        "id": "Z0edgSE7QRoU",
        "outputId": "0a881662-aaa3-4455-951e-b8c8eb2fb205"
      },
      "execution_count": 49,
      "outputs": [
        {
          "output_type": "stream",
          "name": "stdout",
          "text": [
            "0.4122004388823073\n",
            "1464.5544794429682\n"
          ]
        }
      ]
    },
    {
      "cell_type": "code",
      "source": [
        "# Normalized RMSE\n",
        "\n",
        "# formula: Normalized RMSE = RMSE / (max value – min value) # Source: https://www.statology.org/what-is-a-good-rmse/\n",
        "1464.5544794429682/(13086.964800 - 33.290000)"
      ],
      "metadata": {
        "colab": {
          "base_uri": "https://localhost:8080/"
        },
        "id": "kNvAjpUbRr3o",
        "outputId": "02c0dbff-9d76-452b-8faf-682b923b314f"
      },
      "execution_count": 57,
      "outputs": [
        {
          "output_type": "execute_result",
          "data": {
            "text/plain": [
              "0.11219480352329356"
            ]
          },
          "metadata": {},
          "execution_count": 57
        }
      ]
    },
    {
      "cell_type": "code",
      "source": [
        "# rmse of train: 0.4\n",
        "# rmse of test: 0.1 \n",
        "# There is a big difference between our two rmse meaning that our model is underfitting our data.\n",
        "# The causes could be that we don't have enought data or that our features do not correlate well with the target. Source: https://login.codingdojo.com/m/213/7197/85745"
      ],
      "metadata": {
        "id": "s52YNxfGZjYx"
      },
      "execution_count": null,
      "outputs": []
    },
    {
      "cell_type": "markdown",
      "source": [
        "**Conclusion**\n",
        "\n",
        "\n",
        "The linear regression model doesn't work at all on our dataset as we have a negative r^2 score on the testing sets. \n",
        "\n",
        "I would recommend a regression tree model with a max_depth of 7.\n",
        "This model has a low variance and a moderate r^2 score. \n",
        "The RMSE of this model on the testing set is of 0.11 which is very low. The lowest it is, the best, as it means that we have a small margin of errors.\n"
      ],
      "metadata": {
        "id": "TcmCHJ5MhaG_"
      }
    }
  ]
}